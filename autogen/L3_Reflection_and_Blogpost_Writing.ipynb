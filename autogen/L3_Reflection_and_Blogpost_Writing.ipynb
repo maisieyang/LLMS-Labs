{
 "cells": [
  {
   "cell_type": "markdown",
   "id": "fc3024e2",
   "metadata": {},
   "source": [
    "# Lesson 3: Reflection and Blogpost Writing"
   ]
  },
  {
   "cell_type": "markdown",
   "id": "3b0cc42f",
   "metadata": {},
   "source": [
    "## Setup"
   ]
  },
  {
   "cell_type": "code",
   "execution_count": 1,
   "id": "96d39be0-eaf3-456d-8613-ba21099ed36b",
   "metadata": {
    "height": 30
   },
   "outputs": [],
   "source": [
    "llm_config = {\"model\": \"gpt-3.5-turbo\"}"
   ]
  },
  {
   "cell_type": "markdown",
   "id": "0969e6bb",
   "metadata": {},
   "source": [
    "## The task!"
   ]
  },
  {
   "cell_type": "code",
   "execution_count": 2,
   "id": "e8074032-3690-4de9-ad08-ea8323cb441b",
   "metadata": {
    "height": 115
   },
   "outputs": [],
   "source": [
    "task = '''\n",
    "        Write a concise but engaging blogpost about\n",
    "       DeepLearning.AI. Make sure the blogpost is\n",
    "       within 100 words.\n",
    "       '''\n"
   ]
  },
  {
   "cell_type": "markdown",
   "id": "1987f023",
   "metadata": {},
   "source": [
    "## Create a writer agent"
   ]
  },
  {
   "cell_type": "code",
   "execution_count": 3,
   "id": "fe0f0a47-a9fe-43a0-b7b1-79922e4c4ac8",
   "metadata": {
    "height": 183
   },
   "outputs": [],
   "source": [
    "import autogen\n",
    "\n",
    "writer = autogen.AssistantAgent(\n",
    "    name=\"Writer\",\n",
    "    system_message=\"You are a writer. You write engaging and concise \" \n",
    "        \"blogpost (with title) on given topics. You must polish your \"\n",
    "        \"writing based on the feedback you receive and give a refined \"\n",
    "        \"version. Only return your final work without additional comments.\",\n",
    "    llm_config=llm_config,\n",
    ")"
   ]
  },
  {
   "cell_type": "code",
   "execution_count": 4,
   "id": "7c7b4d8d-40f7-4a05-8958-25d20054de3a",
   "metadata": {
    "height": 30
   },
   "outputs": [],
   "source": [
    "reply = writer.generate_reply(messages=[{\"content\": task, \"role\": \"user\"}])"
   ]
  },
  {
   "cell_type": "code",
   "execution_count": 5,
   "id": "c501c97d-e338-4f36-a384-6ec45983cf77",
   "metadata": {
    "height": 30
   },
   "outputs": [
    {
     "name": "stdout",
     "output_type": "stream",
     "text": [
      "Title: Unveiling the World of DeepLearning.AI\n",
      "\n",
      "Step into the fascinating realm of DeepLearning.AI where innovation meets technology. Dive into the ocean of neural networks, algorithms, and data, revolutionizing industries worldwide. Whether you're a seasoned professional or a curious novice, DeepLearning.AI offers a wealth of resources to ignite your passion for AI. With online courses, cutting-edge research, and a vibrant community, the possibilities are endless. Join the movement that is shaping the future and embark on a journey of discovery with DeepLearning.AI. Let's unravel the mysteries of artificial intelligence together!\n"
     ]
    }
   ],
   "source": [
    "print(reply)"
   ]
  },
  {
   "cell_type": "markdown",
   "id": "49658114",
   "metadata": {},
   "source": [
    "## Adding reflection \n",
    "\n",
    "Create a critic agent to reflect on the work of the writer agent."
   ]
  },
  {
   "cell_type": "code",
   "execution_count": 6,
   "id": "c7fcd1c7-51ec-4915-8e97-bac03565c4c7",
   "metadata": {
    "height": 149
   },
   "outputs": [],
   "source": [
    "critic = autogen.AssistantAgent(\n",
    "    name=\"Critic\",\n",
    "    is_termination_msg=lambda x: x.get(\"content\", \"\").find(\"TERMINATE\") >= 0,\n",
    "    llm_config=llm_config,\n",
    "    system_message=\"You are a critic. You review the work of \"\n",
    "                \"the writer and provide constructive \"\n",
    "                \"feedback to help improve the quality of the content.\",\n",
    ")"
   ]
  },
  {
   "cell_type": "code",
   "execution_count": 7,
   "id": "899d5fdb-6081-470b-b287-8cf8b8142d0d",
   "metadata": {
    "height": 115
   },
   "outputs": [
    {
     "name": "stdout",
     "output_type": "stream",
     "text": [
      "\u001b[33mCritic\u001b[0m (to Writer):\n",
      "\n",
      "\n",
      "        Write a concise but engaging blogpost about\n",
      "       DeepLearning.AI. Make sure the blogpost is\n",
      "       within 100 words.\n",
      "       \n",
      "\n",
      "--------------------------------------------------------------------------------\n",
      "\u001b[33mWriter\u001b[0m (to Critic):\n",
      "\n",
      "Title: Unveiling the World of DeepLearning.AI\n",
      "\n",
      "Step into the fascinating realm of DeepLearning.AI where innovation meets technology. Dive into the ocean of neural networks, algorithms, and data, revolutionizing industries worldwide. Whether you're a seasoned professional or a curious novice, DeepLearning.AI offers a wealth of resources to ignite your passion for AI. With online courses, cutting-edge research, and a vibrant community, the possibilities are endless. Join the movement that is shaping the future and embark on a journey of discovery with DeepLearning.AI. Let's unravel the mysteries of artificial intelligence together!\n",
      "\n",
      "--------------------------------------------------------------------------------\n",
      "\u001b[33mCritic\u001b[0m (to Writer):\n",
      "\n",
      "Your blogpost provides a captivating overview of DeepLearning.AI and effectively conveys the excitement and potential of delving into the world of artificial intelligence. To enhance the post, consider incorporating specific examples of successful applications of DeepLearning.AI, such as in healthcare, finance, or autonomous vehicles. Additionally, providing a brief overview of the core concepts or techniques one can learn through DeepLearning.AI courses would add value to readers looking to deepen their understanding of AI. Overall, your engaging writing style sets a strong foundation for further exploring the impact and opportunities within the field of DeepLearning.AI.\n",
      "\n",
      "--------------------------------------------------------------------------------\n",
      "\u001b[33mWriter\u001b[0m (to Critic):\n",
      "\n",
      "Title: Navigating the Potential of DeepLearning.AI\n",
      "\n",
      "Unlock the doors to a world where artificial intelligence reshapes industries. Through DeepLearning.AI, witness technology soar to new heights, fueling innovations in healthcare, finance, and autonomous vehicles. By exploring neural networks and algorithms, you can grasp the power of AI in real-world applications. Dive into courses that cover core concepts like convolutional and recurrent neural networks. Join a vibrant community driving the future of AI. Delve into DeepLearning.AI to grasp the boundless opportunities it offers—explore, learn, and shape the tomorrow of technology. Step into a realm where curiosity meets innovation!\n",
      "\n",
      "--------------------------------------------------------------------------------\n"
     ]
    }
   ],
   "source": [
    "res = critic.initiate_chat(\n",
    "    recipient=writer,\n",
    "    message=task,\n",
    "    max_turns=2,\n",
    "    summary_method=\"last_msg\"\n",
    ")"
   ]
  },
  {
   "cell_type": "markdown",
   "id": "e7b76449",
   "metadata": {},
   "source": [
    "## Nested chat"
   ]
  },
  {
   "cell_type": "code",
   "execution_count": 8,
   "id": "401ecf92-63e9-40ff-aeed-1c404352e4ab",
   "metadata": {
    "height": 200
   },
   "outputs": [],
   "source": [
    "SEO_reviewer = autogen.AssistantAgent(\n",
    "    name=\"SEO Reviewer\",\n",
    "    llm_config=llm_config,\n",
    "    system_message=\"You are an SEO reviewer, known for \"\n",
    "        \"your ability to optimize content for search engines, \"\n",
    "        \"ensuring that it ranks well and attracts organic traffic. \" \n",
    "        \"Make sure your suggestion is concise (within 3 bullet points), \"\n",
    "        \"concrete and to the point. \"\n",
    "        \"Begin the review by stating your role.\",\n",
    ")\n"
   ]
  },
  {
   "cell_type": "code",
   "execution_count": 9,
   "id": "f85acb81-7ab9-4c84-b8bb-6fbae3dce848",
   "metadata": {
    "height": 183
   },
   "outputs": [],
   "source": [
    "legal_reviewer = autogen.AssistantAgent(\n",
    "    name=\"Legal Reviewer\",\n",
    "    llm_config=llm_config,\n",
    "    system_message=\"You are a legal reviewer, known for \"\n",
    "        \"your ability to ensure that content is legally compliant \"\n",
    "        \"and free from any potential legal issues. \"\n",
    "        \"Make sure your suggestion is concise (within 3 bullet points), \"\n",
    "        \"concrete and to the point. \"\n",
    "        \"Begin the review by stating your role.\",\n",
    ")"
   ]
  },
  {
   "cell_type": "code",
   "execution_count": 10,
   "id": "d46a177a-8088-4956-8d2b-3e916b8ca5e9",
   "metadata": {
    "height": 183
   },
   "outputs": [],
   "source": [
    "ethics_reviewer = autogen.AssistantAgent(\n",
    "    name=\"Ethics Reviewer\",\n",
    "    llm_config=llm_config,\n",
    "    system_message=\"You are an ethics reviewer, known for \"\n",
    "        \"your ability to ensure that content is ethically sound \"\n",
    "        \"and free from any potential ethical issues. \" \n",
    "        \"Make sure your suggestion is concise (within 3 bullet points), \"\n",
    "        \"concrete and to the point. \"\n",
    "        \"Begin the review by stating your role. \",\n",
    ")"
   ]
  },
  {
   "cell_type": "code",
   "execution_count": 11,
   "id": "a7b2ad6f-8ba6-436a-9459-14ffbe8a32d3",
   "metadata": {
    "height": 115
   },
   "outputs": [],
   "source": [
    "meta_reviewer = autogen.AssistantAgent(\n",
    "    name=\"Meta Reviewer\",\n",
    "    llm_config=llm_config,\n",
    "    system_message=\"You are a meta reviewer, you aggragate and review \"\n",
    "    \"the work of other reviewers and give a final suggestion on the content.\",\n",
    ")"
   ]
  },
  {
   "cell_type": "markdown",
   "id": "913beca1",
   "metadata": {},
   "source": [
    "## Orchestrate the nested chats to solve the task"
   ]
  },
  {
   "cell_type": "code",
   "execution_count": 12,
   "id": "a11a70c7-19ca-4e5a-ad3d-f2b481fb5915",
   "metadata": {
    "height": 540
   },
   "outputs": [],
   "source": [
    "def reflection_message(recipient, messages, sender, config):\n",
    "    return f'''Review the following content. \n",
    "            \\n\\n {recipient.chat_messages_for_summary(sender)[-1]['content']}'''\n",
    "\n",
    "review_chats = [\n",
    "    {\n",
    "     \"recipient\": SEO_reviewer, \n",
    "     \"message\": reflection_message, \n",
    "     \"summary_method\": \"reflection_with_llm\",\n",
    "     \"summary_args\": {\"summary_prompt\" : \n",
    "        \"Return review into as JSON object only:\"\n",
    "        \"{'Reviewer': '', 'Review': ''}. Here Reviewer should be your role\",},\n",
    "     \"max_turns\": 1},\n",
    "    {\n",
    "    \"recipient\": legal_reviewer, \"message\": reflection_message, \n",
    "     \"summary_method\": \"reflection_with_llm\",\n",
    "     \"summary_args\": {\"summary_prompt\" : \n",
    "        \"Return review into as JSON object only:\"\n",
    "        \"{'Reviewer': '', 'Review': ''}.\",},\n",
    "     \"max_turns\": 1},\n",
    "    {\"recipient\": ethics_reviewer, \"message\": reflection_message, \n",
    "     \"summary_method\": \"reflection_with_llm\",\n",
    "     \"summary_args\": {\"summary_prompt\" : \n",
    "        \"Return review into as JSON object only:\"\n",
    "        \"{'reviewer': '', 'review': ''}\",},\n",
    "     \"max_turns\": 1},\n",
    "     {\"recipient\": meta_reviewer, \n",
    "      \"message\": \"Aggregrate feedback from all reviewers and give final suggestions on the writing.\", \n",
    "     \"max_turns\": 1},\n",
    "]\n"
   ]
  },
  {
   "cell_type": "code",
   "execution_count": 13,
   "id": "b3a40b66-5061-460d-ad9d-c0dbcfbba2e9",
   "metadata": {
    "height": 81
   },
   "outputs": [],
   "source": [
    "critic.register_nested_chats(\n",
    "    review_chats,\n",
    "    trigger=writer,\n",
    ")"
   ]
  },
  {
   "cell_type": "markdown",
   "id": "43b8797d",
   "metadata": {},
   "source": [
    "**Note**: You might get a slightly different response than what's shown in the video. Feel free to try different task."
   ]
  },
  {
   "cell_type": "code",
   "execution_count": 14,
   "id": "3b8dcac3-1e72-43b7-9d5a-1be740f6efd5",
   "metadata": {
    "height": 115
   },
   "outputs": [
    {
     "name": "stdout",
     "output_type": "stream",
     "text": [
      "\u001b[33mCritic\u001b[0m (to Writer):\n",
      "\n",
      "\n",
      "        Write a concise but engaging blogpost about\n",
      "       DeepLearning.AI. Make sure the blogpost is\n",
      "       within 100 words.\n",
      "       \n",
      "\n",
      "--------------------------------------------------------------------------------\n",
      "\u001b[33mWriter\u001b[0m (to Critic):\n",
      "\n",
      "Title: Unveiling the World of DeepLearning.AI\n",
      "\n",
      "Step into the fascinating realm of DeepLearning.AI where innovation meets technology. Dive into the ocean of neural networks, algorithms, and data, revolutionizing industries worldwide. Whether you're a seasoned professional or a curious novice, DeepLearning.AI offers a wealth of resources to ignite your passion for AI. With online courses, cutting-edge research, and a vibrant community, the possibilities are endless. Join the movement that is shaping the future and embark on a journey of discovery with DeepLearning.AI. Let's unravel the mysteries of artificial intelligence together!\n",
      "\n",
      "--------------------------------------------------------------------------------\n",
      "\u001b[34m\n",
      "********************************************************************************\u001b[0m\n",
      "\u001b[34mStarting a new chat....\u001b[0m\n",
      "\u001b[34m\n",
      "********************************************************************************\u001b[0m\n",
      "\u001b[33mCritic\u001b[0m (to SEO Reviewer):\n",
      "\n",
      "Review the following content. \n",
      "            \n",
      "\n",
      " Title: Unveiling the World of DeepLearning.AI\n",
      "\n",
      "Step into the fascinating realm of DeepLearning.AI where innovation meets technology. Dive into the ocean of neural networks, algorithms, and data, revolutionizing industries worldwide. Whether you're a seasoned professional or a curious novice, DeepLearning.AI offers a wealth of resources to ignite your passion for AI. With online courses, cutting-edge research, and a vibrant community, the possibilities are endless. Join the movement that is shaping the future and embark on a journey of discovery with DeepLearning.AI. Let's unravel the mysteries of artificial intelligence together!\n",
      "\n",
      "--------------------------------------------------------------------------------\n",
      "\u001b[33mSEO Reviewer\u001b[0m (to Critic):\n",
      "\n",
      "As an SEO reviewer, here's my feedback:\n",
      "\n",
      "1. **Focus on Target Keywords**: Incorporate relevant keywords like \"Deep Learning AI,\" \"neural networks,\" \"online AI courses,\" etc. strategically throughout the content to improve search engine visibility.\n",
      "   \n",
      "2. **Optimize Meta Tags**: Ensure the title and meta description include key terms to attract clicks from search results and drive organic traffic.\n",
      "\n",
      "3. **Enhance Call-to-Action**: Include a clear, actionable statement encouraging readers to engage with the content, such as \"Start your AI journey today with DeepLearning.AI's online courses!\"\n",
      "\n",
      "--------------------------------------------------------------------------------\n",
      "\u001b[34m\n",
      "********************************************************************************\u001b[0m\n",
      "\u001b[34mStarting a new chat....\u001b[0m\n",
      "\u001b[34m\n",
      "********************************************************************************\u001b[0m\n",
      "\u001b[33mCritic\u001b[0m (to Legal Reviewer):\n",
      "\n",
      "Review the following content. \n",
      "            \n",
      "\n",
      " Title: Unveiling the World of DeepLearning.AI\n",
      "\n",
      "Step into the fascinating realm of DeepLearning.AI where innovation meets technology. Dive into the ocean of neural networks, algorithms, and data, revolutionizing industries worldwide. Whether you're a seasoned professional or a curious novice, DeepLearning.AI offers a wealth of resources to ignite your passion for AI. With online courses, cutting-edge research, and a vibrant community, the possibilities are endless. Join the movement that is shaping the future and embark on a journey of discovery with DeepLearning.AI. Let's unravel the mysteries of artificial intelligence together!\n",
      "Context: \n",
      "{'Reviewer': 'SEO Reviewer', 'Review': 'Focus on Target Keywords, Optimize Meta Tags, Enhance Call-to-Action'}\n",
      "\n",
      "--------------------------------------------------------------------------------\n",
      "\u001b[33mLegal Reviewer\u001b[0m (to Critic):\n",
      "\n",
      "As a Legal Reviewer:\n",
      "\n",
      "1. Ensure that the content does not make any false or misleading claims about the benefits or outcomes of engaging with DeepLearning.AI.\n",
      "  \n",
      "2. Verify that there are no unsubstantiated claims regarding the effectiveness of the resources or courses offered by DeepLearning.AI.\n",
      "\n",
      "3. Confirm that there are no instances of potential trademark or copyright infringement in the content, especially regarding the use of terms like \"neural networks\" or \"algorithms.\"\n",
      "\n",
      "--------------------------------------------------------------------------------\n",
      "\u001b[34m\n",
      "********************************************************************************\u001b[0m\n",
      "\u001b[34mStarting a new chat....\u001b[0m\n",
      "\u001b[34m\n",
      "********************************************************************************\u001b[0m\n",
      "\u001b[33mCritic\u001b[0m (to Ethics Reviewer):\n",
      "\n",
      "Review the following content. \n",
      "            \n",
      "\n",
      " Title: Unveiling the World of DeepLearning.AI\n",
      "\n",
      "Step into the fascinating realm of DeepLearning.AI where innovation meets technology. Dive into the ocean of neural networks, algorithms, and data, revolutionizing industries worldwide. Whether you're a seasoned professional or a curious novice, DeepLearning.AI offers a wealth of resources to ignite your passion for AI. With online courses, cutting-edge research, and a vibrant community, the possibilities are endless. Join the movement that is shaping the future and embark on a journey of discovery with DeepLearning.AI. Let's unravel the mysteries of artificial intelligence together!\n",
      "Context: \n",
      "{'Reviewer': 'SEO Reviewer', 'Review': 'Focus on Target Keywords, Optimize Meta Tags, Enhance Call-to-Action'}\n",
      "{'Reviewer': 'Legal Reviewer', 'Review': 'Ensure that the content does not make any false or misleading claims. Verify the accuracy of claims regarding the effectiveness of DeepLearning.AI resources. Check for potential trademark or copyright infringement.'}\n",
      "\n",
      "--------------------------------------------------------------------------------\n",
      "\u001b[33mEthics Reviewer\u001b[0m (to Critic):\n",
      "\n",
      "As an Ethics Reviewer, my suggestions are:\n",
      "- Ensure that the content does not make any exaggerated or misleading claims about the effectiveness or outcomes of DeepLearning.AI resources.\n",
      "- Verify the accuracy of any statements regarding the benefits or impact of DeepLearning.AI on individuals or industries.\n",
      "- Ensure that the promotion of DeepLearning.AI is done in a transparent and truthful manner, without creating unrealistic expectations.\n",
      "\n",
      "--------------------------------------------------------------------------------\n",
      "\u001b[34m\n",
      "********************************************************************************\u001b[0m\n",
      "\u001b[34mStarting a new chat....\u001b[0m\n",
      "\u001b[34m\n",
      "********************************************************************************\u001b[0m\n",
      "\u001b[33mCritic\u001b[0m (to Meta Reviewer):\n",
      "\n",
      "Aggregrate feedback from all reviewers and give final suggestions on the writing.\n",
      "Context: \n",
      "{'Reviewer': 'SEO Reviewer', 'Review': 'Focus on Target Keywords, Optimize Meta Tags, Enhance Call-to-Action'}\n",
      "{'Reviewer': 'Legal Reviewer', 'Review': 'Ensure that the content does not make any false or misleading claims. Verify the accuracy of claims regarding the effectiveness of DeepLearning.AI resources. Check for potential trademark or copyright infringement.'}\n",
      "{'reviewer': 'Ethics Reviewer', 'review': 'Ensure that the content does not make any exaggerated or misleading claims about the effectiveness or outcomes of DeepLearning.AI resources. Verify the accuracy of any statements regarding the benefits or impact of DeepLearning.AI on individuals or industries. Ensure that the promotion of DeepLearning.AI is done in a transparent and truthful manner, without creating unrealistic expectations.'}\n",
      "\n",
      "--------------------------------------------------------------------------------\n",
      "\u001b[33mMeta Reviewer\u001b[0m (to Critic):\n",
      "\n",
      "Aggregated Feedback:\n",
      "- Focus on Target Keywords, Optimize Meta Tags, Enhance Call-to-Action.\n",
      "- Ensure that the content does not make any false or misleading claims, verify accuracy of claims regarding DeepLearning.AI resources, check for trademark or copyright infringement.\n",
      "- Avoid exaggerated or misleading claims about effectiveness or outcomes, verify accuracy of statements about benefits or impact of DeepLearning.AI, promote in a transparent and truthful manner without creating unrealistic expectations.\n",
      "\n",
      "Final Suggestions:\n",
      "1. Incorporate target keywords, optimize meta tags, and enhance call-to-action to improve SEO.\n",
      "2. Ensure that all claims made about DeepLearning.AI resources are accurate and avoid any false or misleading statements.\n",
      "3. Check for potential trademark or copyright infringement to prevent legal issues.\n",
      "4. Avoid any exaggerated or misleading claims about the effectiveness or benefits of DeepLearning.AI to maintain ethical standards.\n",
      "5. Promote DeepLearning.AI in a transparent and truthful manner to avoid creating unrealistic expectations among the audience.\n",
      "\n",
      "Overall, the writing should be informative, accurate, and ethical while paying attention to SEO optimization and legal considerations.\n"
     ]
    },
    {
     "name": "stdout",
     "output_type": "stream",
     "text": [
      "\n",
      "--------------------------------------------------------------------------------\n",
      "\u001b[33mCritic\u001b[0m (to Writer):\n",
      "\n",
      "Aggregated Feedback:\n",
      "- Focus on Target Keywords, Optimize Meta Tags, Enhance Call-to-Action.\n",
      "- Ensure that the content does not make any false or misleading claims, verify accuracy of claims regarding DeepLearning.AI resources, check for trademark or copyright infringement.\n",
      "- Avoid exaggerated or misleading claims about effectiveness or outcomes, verify accuracy of statements about benefits or impact of DeepLearning.AI, promote in a transparent and truthful manner without creating unrealistic expectations.\n",
      "\n",
      "Final Suggestions:\n",
      "1. Incorporate target keywords, optimize meta tags, and enhance call-to-action to improve SEO.\n",
      "2. Ensure that all claims made about DeepLearning.AI resources are accurate and avoid any false or misleading statements.\n",
      "3. Check for potential trademark or copyright infringement to prevent legal issues.\n",
      "4. Avoid any exaggerated or misleading claims about the effectiveness or benefits of DeepLearning.AI to maintain ethical standards.\n",
      "5. Promote DeepLearning.AI in a transparent and truthful manner to avoid creating unrealistic expectations among the audience.\n",
      "\n",
      "Overall, the writing should be informative, accurate, and ethical while paying attention to SEO optimization and legal considerations.\n",
      "\n",
      "--------------------------------------------------------------------------------\n",
      "\u001b[33mWriter\u001b[0m (to Critic):\n",
      "\n",
      "Title: Navigating the Depths of DeepLearning.AI: A Comprehensive Guide\n",
      "\n",
      "Embark on an enlightening journey through the dynamic universe of DeepLearning.AI. Explore a myriad of resources, from neural networks to groundbreaking algorithms, propelling innovation across diverse industries. Whether you are a seasoned expert or a curious novice, DeepLearning.AI provides a gateway to expand your AI prowess. With accessible online courses, groundbreaking research insights, and a vibrant community, the horizon is limitless. Join the transformative wave shaping the future and unlock the mysteries of artificial intelligence with DeepLearning.AI. Let's delve into this world together and illuminate the path to AI enlightenment!\n",
      "\n",
      "--------------------------------------------------------------------------------\n"
     ]
    }
   ],
   "source": [
    "res = critic.initiate_chat(\n",
    "    recipient=writer,\n",
    "    message=task,\n",
    "    max_turns=2,\n",
    "    summary_method=\"last_msg\"\n",
    ")"
   ]
  },
  {
   "cell_type": "markdown",
   "id": "c5c833b0",
   "metadata": {},
   "source": [
    "## Get the summary"
   ]
  },
  {
   "cell_type": "code",
   "execution_count": null,
   "id": "68ef82ed-f102-4964-b7be-60e2f258a39b",
   "metadata": {
    "height": 30
   },
   "outputs": [],
   "source": [
    "print(res.summary)"
   ]
  }
 ],
 "metadata": {
  "kernelspec": {
   "display_name": "Python 3 (ipykernel)",
   "language": "python",
   "name": "python3"
  },
  "language_info": {
   "codemirror_mode": {
    "name": "ipython",
    "version": 3
   },
   "file_extension": ".py",
   "mimetype": "text/x-python",
   "name": "python",
   "nbconvert_exporter": "python",
   "pygments_lexer": "ipython3",
   "version": "3.11.9"
  }
 },
 "nbformat": 4,
 "nbformat_minor": 5
}
